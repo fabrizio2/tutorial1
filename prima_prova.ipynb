{
 "cells": [
  {
   "cell_type": "code",
   "execution_count": 9,
   "metadata": {},
   "outputs": [],
   "source": [
    "import ipywidgets as ipw\n",
    "from IPython.display import display"
   ]
  },
  {
   "cell_type": "code",
   "execution_count": 13,
   "metadata": {},
   "outputs": [
    {
     "data": {
      "application/vnd.jupyter.widget-view+json": {
       "model_id": "4333f52b3c744d818148295e418e067e",
       "version_major": 2,
       "version_minor": 0
      },
      "text/plain": [
       "VkJveChjaGlsZHJlbj0oSEJveChjaGlsZHJlbj0oVGV4dCh2YWx1ZT11J2NoYW5nZSBoZXJlJywgZGVzY3JpcHRpb249dSdWYWx1ZScpLCBCdXR0b24oZGVzY3JpcHRpb249dSdjbGljayBtZSfigKY=\n"
      ]
     },
     "metadata": {},
     "output_type": "display_data"
    }
   ],
   "source": [
    "w_text = ipw.Text(description=\"Value\", value=\"change here\")\n",
    "w_button = ipw.Button(description=\"click me\")\n",
    "w_label = ipw.Label(value=\"bla bla\")\n",
    "w_slider = ipw.FloatSlider(description=\"Freq\", value=3, min=1, max=10)\n",
    "\n",
    "w_output = ipw.Output()\n",
    "\n",
    "display(ipw.VBox([\n",
    "    ipw.HBox([\n",
    "        w_text,w_button\n",
    "    ]),\n",
    "    w_slider,\n",
    "    w_label,\n",
    "    w_output\n",
    "]))\n",
    "#print(\"A\")"
   ]
  },
  {
   "cell_type": "code",
   "execution_count": 3,
   "metadata": {},
   "outputs": [],
   "source": [
    "#print(w_text.value)"
   ]
  },
  {
   "cell_type": "code",
   "execution_count": 11,
   "metadata": {},
   "outputs": [
    {
     "ename": "SyntaxError",
     "evalue": "invalid syntax (<ipython-input-11-cb6fbf7b4f9e>, line 9)",
     "output_type": "error",
     "traceback": [
      "\u001b[0;36m  File \u001b[0;32m\"<ipython-input-11-cb6fbf7b4f9e>\"\u001b[0;36m, line \u001b[0;32m9\u001b[0m\n\u001b[0;31m    w_button.on_click(clicked)\u001b[0m\n\u001b[0m           ^\u001b[0m\n\u001b[0;31mSyntaxError\u001b[0m\u001b[0;31m:\u001b[0m invalid syntax\n"
     ]
    }
   ],
   "source": [
    "def clicked(the_button):\n",
    "    global w_text, w_label\n",
    "    w_label.value = \"abc\".format(w_text.value)\n",
    "    w_output.clear_output(wait=True)\n",
    "    with w_output:\n",
    "        import time\n",
    "        print(\"cde\", format(w_text.value)\n",
    "\n",
    "w_button.on_click(clicked)"
   ]
  },
  {
   "cell_type": "code",
   "execution_count": null,
   "metadata": {},
   "outputs": [],
   "source": []
  }
 ],
 "metadata": {
  "kernelspec": {
   "display_name": "Python 2",
   "language": "python",
   "name": "python2"
  },
  "language_info": {
   "codemirror_mode": {
    "name": "ipython",
    "version": 2
   },
   "file_extension": ".py",
   "mimetype": "text/x-python",
   "name": "python",
   "nbconvert_exporter": "python",
   "pygments_lexer": "ipython2",
   "version": "2.7.15rc1"
  }
 },
 "nbformat": 4,
 "nbformat_minor": 2
}
